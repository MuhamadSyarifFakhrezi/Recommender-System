{
 "cells": [
  {
   "cell_type": "markdown",
   "metadata": {},
   "source": [
    "***\n",
    "# **Recommender System**\n",
    "***"
   ]
  },
  {
   "cell_type": "markdown",
   "metadata": {},
   "source": [
    "## Business Understanding"
   ]
  },
  {
   "cell_type": "markdown",
   "metadata": {},
   "source": [
    "The aim of this project is to develop a recommendation system that can help users find fashion products they like based on their previous shopping behaviour. The recommendation system will use implicit feedback data, such as purchase history and product ratings, to suggest products that may be of interest to users.\n",
    "\n",
    "The recommendation model is built using the Alternating Least Squares (ALS) algorithm by utilising implicit feedback data. Exploratoty Data Analysis process was also conducted to find out the distribution, description, and insight of the data, Laplace Smoothing approach was used to help prevent bias towards products with few high-ranking reviews in the top products ranking process by adding a constant to each category to avoid zero probability."
   ]
  },
  {
   "cell_type": "markdown",
   "metadata": {},
   "source": [
    "## Data Understanding"
   ]
  },
  {
   "cell_type": "markdown",
   "metadata": {},
   "source": [
    "This project utilises the [Amazon](https://amazon-reviews-2023.github.io/) dataset for fashion product categories which includes information on purchase history and product ratings by users, dataset contains more than 2.5M product reviews in the fashion category from 2002 to 2023 (Downloadable [here](https://datarepo.eng.ucsd.edu/mcauley_group/data/amazon_2023/raw/review_categories/Amazon_Fashion.jsonl.gz)).\n"
   ]
  },
  {
   "cell_type": "markdown",
   "metadata": {},
   "source": [
    "### Data Description"
   ]
  },
  {
   "cell_type": "markdown",
   "metadata": {},
   "source": [
    "| Field | Type | Explanation |\n",
    "| --- | --- | --- |\n",
    "| rating | float | Rating of the product (from 1.0 to 5.0). |\n",
    "| title | str | Title of the user review. |\n",
    "| text | str | Text body of the user review. |\n",
    "| images | list | Images that users post after they have received the product. Each image has different sizes (small, medium, large), represented by the small_image_url, medium_image_url, and large_image_url respectively. |\n",
    "| asin | str | ID of the product. |\n",
    "| parent_asin | str | Parent ID of the product. Note: Products with different colors, styles, sizes usually belong to the same parent ID. The “asin” in previous Amazon datasets is actually parent ID. |\n",
    "| user_id | str | ID of the reviewer. |\n",
    "| timestamp | int | Time of the review (unix time). |\n",
    "| verified_purchase | bool | User purchase verification. |\n",
    "| helpful_vote | int | Helpful votes of the review. |"
   ]
  },
  {
   "cell_type": "markdown",
   "metadata": {},
   "source": [
    "### Import Necessary Libraries"
   ]
  },
  {
   "cell_type": "code",
   "execution_count": 1,
   "metadata": {},
   "outputs": [],
   "source": [
    "import json\n",
    "import pandas as pd\n",
    "import numpy as np\n",
    "import matplotlib.pyplot as plt\n",
    "import seaborn as sns"
   ]
  },
  {
   "cell_type": "markdown",
   "metadata": {},
   "source": [
    "### Data Wrangling"
   ]
  },
  {
   "cell_type": "code",
   "execution_count": 2,
   "metadata": {},
   "outputs": [
    {
     "data": {
      "text/html": [
       "<div>\n",
       "<style scoped>\n",
       "    .dataframe tbody tr th:only-of-type {\n",
       "        vertical-align: middle;\n",
       "    }\n",
       "\n",
       "    .dataframe tbody tr th {\n",
       "        vertical-align: top;\n",
       "    }\n",
       "\n",
       "    .dataframe thead th {\n",
       "        text-align: right;\n",
       "    }\n",
       "</style>\n",
       "<table border=\"1\" class=\"dataframe\">\n",
       "  <thead>\n",
       "    <tr style=\"text-align: right;\">\n",
       "      <th></th>\n",
       "      <th>rating</th>\n",
       "      <th>title</th>\n",
       "      <th>text</th>\n",
       "      <th>images</th>\n",
       "      <th>asin</th>\n",
       "      <th>parent_asin</th>\n",
       "      <th>user_id</th>\n",
       "      <th>timestamp</th>\n",
       "      <th>helpful_vote</th>\n",
       "      <th>verified_purchase</th>\n",
       "    </tr>\n",
       "  </thead>\n",
       "  <tbody>\n",
       "    <tr>\n",
       "      <th>0</th>\n",
       "      <td>5.0</td>\n",
       "      <td>Pretty locket</td>\n",
       "      <td>I think this locket is really pretty. The insi...</td>\n",
       "      <td>[]</td>\n",
       "      <td>B00LOPVX74</td>\n",
       "      <td>B00LOPVX74</td>\n",
       "      <td>AGBFYI2DDIKXC5Y4FARTYDTQBMFQ</td>\n",
       "      <td>1578528394489</td>\n",
       "      <td>3</td>\n",
       "      <td>True</td>\n",
       "    </tr>\n",
       "    <tr>\n",
       "      <th>1</th>\n",
       "      <td>5.0</td>\n",
       "      <td>A</td>\n",
       "      <td>Great</td>\n",
       "      <td>[]</td>\n",
       "      <td>B07B4JXK8D</td>\n",
       "      <td>B07B4JXK8D</td>\n",
       "      <td>AFQLNQNQYFWQZPJQZS6V3NZU4QBQ</td>\n",
       "      <td>1608426246701</td>\n",
       "      <td>0</td>\n",
       "      <td>True</td>\n",
       "    </tr>\n",
       "    <tr>\n",
       "      <th>2</th>\n",
       "      <td>2.0</td>\n",
       "      <td>Two Stars</td>\n",
       "      <td>One of the stones fell out within the first 2 ...</td>\n",
       "      <td>[]</td>\n",
       "      <td>B007ZSEQ4Q</td>\n",
       "      <td>B007ZSEQ4Q</td>\n",
       "      <td>AHITBJSS7KYUBVZPX7M2WJCOIVKQ</td>\n",
       "      <td>1432344828000</td>\n",
       "      <td>3</td>\n",
       "      <td>True</td>\n",
       "    </tr>\n",
       "    <tr>\n",
       "      <th>3</th>\n",
       "      <td>1.0</td>\n",
       "      <td>Won’t buy again</td>\n",
       "      <td>Crappy socks. Money wasted. Bought to wear wit...</td>\n",
       "      <td>[]</td>\n",
       "      <td>B07F2BTFS9</td>\n",
       "      <td>B07F2BTFS9</td>\n",
       "      <td>AFVNEEPDEIH5SPUN5BWC6NKL3WNQ</td>\n",
       "      <td>1546289847095</td>\n",
       "      <td>2</td>\n",
       "      <td>True</td>\n",
       "    </tr>\n",
       "    <tr>\n",
       "      <th>4</th>\n",
       "      <td>5.0</td>\n",
       "      <td>I LOVE these glasses</td>\n",
       "      <td>I LOVE these glasses!  They fit perfectly over...</td>\n",
       "      <td>[]</td>\n",
       "      <td>B00PKRFU4O</td>\n",
       "      <td>B00XESJTDE</td>\n",
       "      <td>AHSPLDNW5OOUK2PLH7GXLACFBZNQ</td>\n",
       "      <td>1439476166000</td>\n",
       "      <td>0</td>\n",
       "      <td>True</td>\n",
       "    </tr>\n",
       "  </tbody>\n",
       "</table>\n",
       "</div>"
      ],
      "text/plain": [
       "   rating                 title  \\\n",
       "0     5.0         Pretty locket   \n",
       "1     5.0                     A   \n",
       "2     2.0             Two Stars   \n",
       "3     1.0       Won’t buy again   \n",
       "4     5.0  I LOVE these glasses   \n",
       "\n",
       "                                                text images        asin  \\\n",
       "0  I think this locket is really pretty. The insi...     []  B00LOPVX74   \n",
       "1                                              Great     []  B07B4JXK8D   \n",
       "2  One of the stones fell out within the first 2 ...     []  B007ZSEQ4Q   \n",
       "3  Crappy socks. Money wasted. Bought to wear wit...     []  B07F2BTFS9   \n",
       "4  I LOVE these glasses!  They fit perfectly over...     []  B00PKRFU4O   \n",
       "\n",
       "  parent_asin                       user_id      timestamp  helpful_vote  \\\n",
       "0  B00LOPVX74  AGBFYI2DDIKXC5Y4FARTYDTQBMFQ  1578528394489             3   \n",
       "1  B07B4JXK8D  AFQLNQNQYFWQZPJQZS6V3NZU4QBQ  1608426246701             0   \n",
       "2  B007ZSEQ4Q  AHITBJSS7KYUBVZPX7M2WJCOIVKQ  1432344828000             3   \n",
       "3  B07F2BTFS9  AFVNEEPDEIH5SPUN5BWC6NKL3WNQ  1546289847095             2   \n",
       "4  B00XESJTDE  AHSPLDNW5OOUK2PLH7GXLACFBZNQ  1439476166000             0   \n",
       "\n",
       "   verified_purchase  \n",
       "0               True  \n",
       "1               True  \n",
       "2               True  \n",
       "3               True  \n",
       "4               True  "
      ]
     },
     "execution_count": 2,
     "metadata": {},
     "output_type": "execute_result"
    }
   ],
   "source": [
    "def load_jsonl(file_path):\n",
    "    data = []\n",
    "    with open(file_path, 'r') as f:\n",
    "        for line in f:\n",
    "            data.append(json.loads(line))\n",
    "    return pd.DataFrame(data)\n",
    "\n",
    "raw_df = load_jsonl('Amazon_Fashion.jsonl')\n",
    "raw_df.head()"
   ]
  },
  {
   "cell_type": "markdown",
   "metadata": {},
   "source": [
    "Since the timestamp is in code, we need to convert it to make it easier to read."
   ]
  },
  {
   "cell_type": "code",
   "execution_count": 3,
   "metadata": {},
   "outputs": [
    {
     "data": {
      "text/plain": [
       "2303159   2002-05-07 01:51:28.000\n",
       "514045    2002-07-23 20:54:50.000\n",
       "522897    2002-09-10 13:38:24.000\n",
       "256651    2002-10-05 07:53:31.000\n",
       "2288568   2002-11-02 12:25:58.000\n",
       "                    ...          \n",
       "2492600   2023-09-07 23:27:34.501\n",
       "2491862   2023-09-09 05:18:14.602\n",
       "2489861   2023-09-09 21:06:58.172\n",
       "2492267   2023-09-10 22:12:32.123\n",
       "2495586   2023-09-11 03:24:38.515\n",
       "Name: timestamp, Length: 2500939, dtype: datetime64[ns]"
      ]
     },
     "execution_count": 3,
     "metadata": {},
     "output_type": "execute_result"
    }
   ],
   "source": [
    "raw_df['timestamp'] = pd.to_datetime(raw_df['timestamp'], unit='ms')\n",
    "raw_df['timestamp'].sort_values()"
   ]
  },
  {
   "cell_type": "markdown",
   "metadata": {},
   "source": [
    "It can be seen that the dataset contains sales from 2022 to 2023, we will only use the last 3 years data, 2020-08-01 to 2023-09-11 (the last date in the data)."
   ]
  },
  {
   "cell_type": "code",
   "execution_count": 4,
   "metadata": {},
   "outputs": [
    {
     "data": {
      "text/html": [
       "<div>\n",
       "<style scoped>\n",
       "    .dataframe tbody tr th:only-of-type {\n",
       "        vertical-align: middle;\n",
       "    }\n",
       "\n",
       "    .dataframe tbody tr th {\n",
       "        vertical-align: top;\n",
       "    }\n",
       "\n",
       "    .dataframe thead th {\n",
       "        text-align: right;\n",
       "    }\n",
       "</style>\n",
       "<table border=\"1\" class=\"dataframe\">\n",
       "  <thead>\n",
       "    <tr style=\"text-align: right;\">\n",
       "      <th></th>\n",
       "      <th>rating</th>\n",
       "      <th>title</th>\n",
       "      <th>text</th>\n",
       "      <th>images</th>\n",
       "      <th>asin</th>\n",
       "      <th>parent_asin</th>\n",
       "      <th>user_id</th>\n",
       "      <th>timestamp</th>\n",
       "      <th>helpful_vote</th>\n",
       "      <th>verified_purchase</th>\n",
       "    </tr>\n",
       "  </thead>\n",
       "  <tbody>\n",
       "    <tr>\n",
       "      <th>0</th>\n",
       "      <td>5.0</td>\n",
       "      <td>A</td>\n",
       "      <td>Great</td>\n",
       "      <td>[]</td>\n",
       "      <td>B07B4JXK8D</td>\n",
       "      <td>B07B4JXK8D</td>\n",
       "      <td>AFQLNQNQYFWQZPJQZS6V3NZU4QBQ</td>\n",
       "      <td>2020-12-20 01:04:06.701</td>\n",
       "      <td>0</td>\n",
       "      <td>True</td>\n",
       "    </tr>\n",
       "    <tr>\n",
       "      <th>1</th>\n",
       "      <td>3.0</td>\n",
       "      <td>Adult friendly; Not for small kids</td>\n",
       "      <td>Works OK for adults and is not at all kid frie...</td>\n",
       "      <td>[]</td>\n",
       "      <td>B089S8MFCQ</td>\n",
       "      <td>B089S8MFCQ</td>\n",
       "      <td>AHTTU2FL6FCNBBAESCJHOHHSSW7A</td>\n",
       "      <td>2020-10-21 18:58:06.690</td>\n",
       "      <td>0</td>\n",
       "      <td>True</td>\n",
       "    </tr>\n",
       "    <tr>\n",
       "      <th>2</th>\n",
       "      <td>5.0</td>\n",
       "      <td>Bright and summer</td>\n",
       "      <td>What a cute top! Cam wait to wear in warm weat...</td>\n",
       "      <td>[]</td>\n",
       "      <td>B087M39LVV</td>\n",
       "      <td>B087M39LVV</td>\n",
       "      <td>AEQAYV7RXZEBXMQIQPL6KCT2CFWQ</td>\n",
       "      <td>2022-01-20 23:38:14.143</td>\n",
       "      <td>0</td>\n",
       "      <td>True</td>\n",
       "    </tr>\n",
       "    <tr>\n",
       "      <th>3</th>\n",
       "      <td>5.0</td>\n",
       "      <td>My Kid loves these!</td>\n",
       "      <td>My son is a big Ninjago fan and these are perf...</td>\n",
       "      <td>[]</td>\n",
       "      <td>B091GMMYPS</td>\n",
       "      <td>B091GMMYPS</td>\n",
       "      <td>AEVPPTMG43C6GWSR7I2UGRQN7WFQ</td>\n",
       "      <td>2022-02-04 18:48:28.824</td>\n",
       "      <td>0</td>\n",
       "      <td>True</td>\n",
       "    </tr>\n",
       "    <tr>\n",
       "      <th>4</th>\n",
       "      <td>2.0</td>\n",
       "      <td>Not what was expected</td>\n",
       "      <td>There are lots of raw edges.  Not well made.  ...</td>\n",
       "      <td>[]</td>\n",
       "      <td>B09DQ5M2BB</td>\n",
       "      <td>B09DQ5M2BB</td>\n",
       "      <td>AHREXOGQPZDA6354MHH4ETSF3MCQ</td>\n",
       "      <td>2021-10-21 04:50:43.960</td>\n",
       "      <td>1</td>\n",
       "      <td>True</td>\n",
       "    </tr>\n",
       "  </tbody>\n",
       "</table>\n",
       "</div>"
      ],
      "text/plain": [
       "   rating                               title  \\\n",
       "0     5.0                                   A   \n",
       "1     3.0  Adult friendly; Not for small kids   \n",
       "2     5.0                   Bright and summer   \n",
       "3     5.0                 My Kid loves these!   \n",
       "4     2.0               Not what was expected   \n",
       "\n",
       "                                                text images        asin  \\\n",
       "0                                              Great     []  B07B4JXK8D   \n",
       "1  Works OK for adults and is not at all kid frie...     []  B089S8MFCQ   \n",
       "2  What a cute top! Cam wait to wear in warm weat...     []  B087M39LVV   \n",
       "3  My son is a big Ninjago fan and these are perf...     []  B091GMMYPS   \n",
       "4  There are lots of raw edges.  Not well made.  ...     []  B09DQ5M2BB   \n",
       "\n",
       "  parent_asin                       user_id               timestamp  \\\n",
       "0  B07B4JXK8D  AFQLNQNQYFWQZPJQZS6V3NZU4QBQ 2020-12-20 01:04:06.701   \n",
       "1  B089S8MFCQ  AHTTU2FL6FCNBBAESCJHOHHSSW7A 2020-10-21 18:58:06.690   \n",
       "2  B087M39LVV  AEQAYV7RXZEBXMQIQPL6KCT2CFWQ 2022-01-20 23:38:14.143   \n",
       "3  B091GMMYPS  AEVPPTMG43C6GWSR7I2UGRQN7WFQ 2022-02-04 18:48:28.824   \n",
       "4  B09DQ5M2BB  AHREXOGQPZDA6354MHH4ETSF3MCQ 2021-10-21 04:50:43.960   \n",
       "\n",
       "   helpful_vote  verified_purchase  \n",
       "0             0               True  \n",
       "1             0               True  \n",
       "2             0               True  \n",
       "3             0               True  \n",
       "4             1               True  "
      ]
     },
     "execution_count": 4,
     "metadata": {},
     "output_type": "execute_result"
    }
   ],
   "source": [
    "df = raw_df[(raw_df['timestamp'] >= '2020-08-01') & (raw_df['timestamp'] <= '2023-09-11')].reset_index(drop=True)\n",
    "df.head()"
   ]
  },
  {
   "cell_type": "markdown",
   "metadata": {},
   "source": [
    "Next, select the data that will be used in this project."
   ]
  },
  {
   "cell_type": "code",
   "execution_count": 5,
   "metadata": {},
   "outputs": [
    {
     "data": {
      "text/html": [
       "<div>\n",
       "<style scoped>\n",
       "    .dataframe tbody tr th:only-of-type {\n",
       "        vertical-align: middle;\n",
       "    }\n",
       "\n",
       "    .dataframe tbody tr th {\n",
       "        vertical-align: top;\n",
       "    }\n",
       "\n",
       "    .dataframe thead th {\n",
       "        text-align: right;\n",
       "    }\n",
       "</style>\n",
       "<table border=\"1\" class=\"dataframe\">\n",
       "  <thead>\n",
       "    <tr style=\"text-align: right;\">\n",
       "      <th></th>\n",
       "      <th>rating</th>\n",
       "      <th>product_id</th>\n",
       "      <th>user_id</th>\n",
       "      <th>timestamp</th>\n",
       "      <th>helpful_vote</th>\n",
       "      <th>verified_purchase</th>\n",
       "    </tr>\n",
       "  </thead>\n",
       "  <tbody>\n",
       "    <tr>\n",
       "      <th>0</th>\n",
       "      <td>5.0</td>\n",
       "      <td>B07B4JXK8D</td>\n",
       "      <td>AFQLNQNQYFWQZPJQZS6V3NZU4QBQ</td>\n",
       "      <td>2020-12-20 01:04:06.701</td>\n",
       "      <td>0</td>\n",
       "      <td>True</td>\n",
       "    </tr>\n",
       "    <tr>\n",
       "      <th>1</th>\n",
       "      <td>3.0</td>\n",
       "      <td>B089S8MFCQ</td>\n",
       "      <td>AHTTU2FL6FCNBBAESCJHOHHSSW7A</td>\n",
       "      <td>2020-10-21 18:58:06.690</td>\n",
       "      <td>0</td>\n",
       "      <td>True</td>\n",
       "    </tr>\n",
       "    <tr>\n",
       "      <th>2</th>\n",
       "      <td>5.0</td>\n",
       "      <td>B087M39LVV</td>\n",
       "      <td>AEQAYV7RXZEBXMQIQPL6KCT2CFWQ</td>\n",
       "      <td>2022-01-20 23:38:14.143</td>\n",
       "      <td>0</td>\n",
       "      <td>True</td>\n",
       "    </tr>\n",
       "    <tr>\n",
       "      <th>3</th>\n",
       "      <td>5.0</td>\n",
       "      <td>B091GMMYPS</td>\n",
       "      <td>AEVPPTMG43C6GWSR7I2UGRQN7WFQ</td>\n",
       "      <td>2022-02-04 18:48:28.824</td>\n",
       "      <td>0</td>\n",
       "      <td>True</td>\n",
       "    </tr>\n",
       "    <tr>\n",
       "      <th>4</th>\n",
       "      <td>2.0</td>\n",
       "      <td>B09DQ5M2BB</td>\n",
       "      <td>AHREXOGQPZDA6354MHH4ETSF3MCQ</td>\n",
       "      <td>2021-10-21 04:50:43.960</td>\n",
       "      <td>1</td>\n",
       "      <td>True</td>\n",
       "    </tr>\n",
       "  </tbody>\n",
       "</table>\n",
       "</div>"
      ],
      "text/plain": [
       "   rating  product_id                       user_id               timestamp  \\\n",
       "0     5.0  B07B4JXK8D  AFQLNQNQYFWQZPJQZS6V3NZU4QBQ 2020-12-20 01:04:06.701   \n",
       "1     3.0  B089S8MFCQ  AHTTU2FL6FCNBBAESCJHOHHSSW7A 2020-10-21 18:58:06.690   \n",
       "2     5.0  B087M39LVV  AEQAYV7RXZEBXMQIQPL6KCT2CFWQ 2022-01-20 23:38:14.143   \n",
       "3     5.0  B091GMMYPS  AEVPPTMG43C6GWSR7I2UGRQN7WFQ 2022-02-04 18:48:28.824   \n",
       "4     2.0  B09DQ5M2BB  AHREXOGQPZDA6354MHH4ETSF3MCQ 2021-10-21 04:50:43.960   \n",
       "\n",
       "   helpful_vote  verified_purchase  \n",
       "0             0               True  \n",
       "1             0               True  \n",
       "2             0               True  \n",
       "3             0               True  \n",
       "4             1               True  "
      ]
     },
     "execution_count": 5,
     "metadata": {},
     "output_type": "execute_result"
    }
   ],
   "source": [
    "df = df.drop(['title', 'text', 'images', 'parent_asin'], axis=1)\n",
    "df = df.rename(columns={'asin': 'product_id'})\n",
    "df.head()"
   ]
  },
  {
   "cell_type": "markdown",
   "metadata": {},
   "source": [
    "We check for missing value and duplicated data."
   ]
  },
  {
   "cell_type": "code",
   "execution_count": 6,
   "metadata": {},
   "outputs": [
    {
     "data": {
      "text/plain": [
       "rating               0\n",
       "product_id           0\n",
       "user_id              0\n",
       "timestamp            0\n",
       "helpful_vote         0\n",
       "verified_purchase    0\n",
       "dtype: int64"
      ]
     },
     "execution_count": 6,
     "metadata": {},
     "output_type": "execute_result"
    }
   ],
   "source": [
    "df.isnull().sum()"
   ]
  },
  {
   "cell_type": "markdown",
   "metadata": {},
   "source": [
    "There are no missing value in the data."
   ]
  },
  {
   "cell_type": "code",
   "execution_count": 7,
   "metadata": {},
   "outputs": [
    {
     "name": "stdout",
     "output_type": "stream",
     "text": [
      "Duplicate Data: 6568\n"
     ]
    }
   ],
   "source": [
    "print('Duplicate Data:', df.duplicated().sum())"
   ]
  },
  {
   "cell_type": "markdown",
   "metadata": {},
   "source": [
    "There are 15569 duplicate data, we will delete this."
   ]
  },
  {
   "cell_type": "code",
   "execution_count": 8,
   "metadata": {},
   "outputs": [
    {
     "name": "stdout",
     "output_type": "stream",
     "text": [
      "Duplicated Data: 0\n"
     ]
    }
   ],
   "source": [
    "df.drop_duplicates(inplace=True)\n",
    "print('Duplicated Data:', df.duplicated().sum())"
   ]
  },
  {
   "cell_type": "code",
   "execution_count": 9,
   "metadata": {},
   "outputs": [
    {
     "name": "stdout",
     "output_type": "stream",
     "text": [
      "<class 'pandas.core.frame.DataFrame'>\n",
      "Index: 645986 entries, 0 to 652553\n",
      "Data columns (total 6 columns):\n",
      " #   Column             Non-Null Count   Dtype         \n",
      "---  ------             --------------   -----         \n",
      " 0   rating             645986 non-null  float64       \n",
      " 1   product_id         645986 non-null  object        \n",
      " 2   user_id            645986 non-null  object        \n",
      " 3   timestamp          645986 non-null  datetime64[ns]\n",
      " 4   helpful_vote       645986 non-null  int64         \n",
      " 5   verified_purchase  645986 non-null  bool          \n",
      "dtypes: bool(1), datetime64[ns](1), float64(1), int64(1), object(2)\n",
      "memory usage: 30.2+ MB\n"
     ]
    }
   ],
   "source": [
    "df.info()"
   ]
  },
  {
   "cell_type": "markdown",
   "metadata": {},
   "source": [
    "Each column has an appropriate data type."
   ]
  },
  {
   "cell_type": "code",
   "execution_count": 10,
   "metadata": {},
   "outputs": [
    {
     "data": {
      "text/html": [
       "<div>\n",
       "<style scoped>\n",
       "    .dataframe tbody tr th:only-of-type {\n",
       "        vertical-align: middle;\n",
       "    }\n",
       "\n",
       "    .dataframe tbody tr th {\n",
       "        vertical-align: top;\n",
       "    }\n",
       "\n",
       "    .dataframe thead th {\n",
       "        text-align: right;\n",
       "    }\n",
       "</style>\n",
       "<table border=\"1\" class=\"dataframe\">\n",
       "  <thead>\n",
       "    <tr style=\"text-align: right;\">\n",
       "      <th></th>\n",
       "      <th>count</th>\n",
       "      <th>unique</th>\n",
       "      <th>top</th>\n",
       "      <th>freq</th>\n",
       "      <th>mean</th>\n",
       "      <th>min</th>\n",
       "      <th>25%</th>\n",
       "      <th>50%</th>\n",
       "      <th>75%</th>\n",
       "      <th>max</th>\n",
       "      <th>std</th>\n",
       "    </tr>\n",
       "  </thead>\n",
       "  <tbody>\n",
       "    <tr>\n",
       "      <th>rating</th>\n",
       "      <td>645986.0</td>\n",
       "      <td>NaN</td>\n",
       "      <td>NaN</td>\n",
       "      <td>NaN</td>\n",
       "      <td>3.845845</td>\n",
       "      <td>1.0</td>\n",
       "      <td>3.0</td>\n",
       "      <td>5.0</td>\n",
       "      <td>5.0</td>\n",
       "      <td>5.0</td>\n",
       "      <td>1.523778</td>\n",
       "    </tr>\n",
       "    <tr>\n",
       "      <th>product_id</th>\n",
       "      <td>645986</td>\n",
       "      <td>334902</td>\n",
       "      <td>B000GAWSDG</td>\n",
       "      <td>1356</td>\n",
       "      <td>NaN</td>\n",
       "      <td>NaN</td>\n",
       "      <td>NaN</td>\n",
       "      <td>NaN</td>\n",
       "      <td>NaN</td>\n",
       "      <td>NaN</td>\n",
       "      <td>NaN</td>\n",
       "    </tr>\n",
       "    <tr>\n",
       "      <th>user_id</th>\n",
       "      <td>645986</td>\n",
       "      <td>583876</td>\n",
       "      <td>AGZZXSMMS4WRHHJRBUJZI4FZDHKQ</td>\n",
       "      <td>148</td>\n",
       "      <td>NaN</td>\n",
       "      <td>NaN</td>\n",
       "      <td>NaN</td>\n",
       "      <td>NaN</td>\n",
       "      <td>NaN</td>\n",
       "      <td>NaN</td>\n",
       "      <td>NaN</td>\n",
       "    </tr>\n",
       "    <tr>\n",
       "      <th>timestamp</th>\n",
       "      <td>645986</td>\n",
       "      <td>NaN</td>\n",
       "      <td>NaN</td>\n",
       "      <td>NaN</td>\n",
       "      <td>2021-09-08 00:15:41.369068288</td>\n",
       "      <td>2020-08-01 00:04:40.380000</td>\n",
       "      <td>2021-01-30 03:46:16.180499968</td>\n",
       "      <td>2021-07-19 05:59:24.970499840</td>\n",
       "      <td>2022-03-23 11:23:41.930749952</td>\n",
       "      <td>2023-09-10 22:12:32.123000</td>\n",
       "      <td>NaN</td>\n",
       "    </tr>\n",
       "    <tr>\n",
       "      <th>helpful_vote</th>\n",
       "      <td>645986.0</td>\n",
       "      <td>NaN</td>\n",
       "      <td>NaN</td>\n",
       "      <td>NaN</td>\n",
       "      <td>0.38292</td>\n",
       "      <td>0.0</td>\n",
       "      <td>0.0</td>\n",
       "      <td>0.0</td>\n",
       "      <td>0.0</td>\n",
       "      <td>623.0</td>\n",
       "      <td>2.393297</td>\n",
       "    </tr>\n",
       "    <tr>\n",
       "      <th>verified_purchase</th>\n",
       "      <td>645986</td>\n",
       "      <td>2</td>\n",
       "      <td>True</td>\n",
       "      <td>584112</td>\n",
       "      <td>NaN</td>\n",
       "      <td>NaN</td>\n",
       "      <td>NaN</td>\n",
       "      <td>NaN</td>\n",
       "      <td>NaN</td>\n",
       "      <td>NaN</td>\n",
       "      <td>NaN</td>\n",
       "    </tr>\n",
       "  </tbody>\n",
       "</table>\n",
       "</div>"
      ],
      "text/plain": [
       "                      count  unique                           top    freq  \\\n",
       "rating             645986.0     NaN                           NaN     NaN   \n",
       "product_id           645986  334902                    B000GAWSDG    1356   \n",
       "user_id              645986  583876  AGZZXSMMS4WRHHJRBUJZI4FZDHKQ     148   \n",
       "timestamp            645986     NaN                           NaN     NaN   \n",
       "helpful_vote       645986.0     NaN                           NaN     NaN   \n",
       "verified_purchase    645986       2                          True  584112   \n",
       "\n",
       "                                            mean                         min  \\\n",
       "rating                                  3.845845                         1.0   \n",
       "product_id                                   NaN                         NaN   \n",
       "user_id                                      NaN                         NaN   \n",
       "timestamp          2021-09-08 00:15:41.369068288  2020-08-01 00:04:40.380000   \n",
       "helpful_vote                             0.38292                         0.0   \n",
       "verified_purchase                            NaN                         NaN   \n",
       "\n",
       "                                             25%  \\\n",
       "rating                                       3.0   \n",
       "product_id                                   NaN   \n",
       "user_id                                      NaN   \n",
       "timestamp          2021-01-30 03:46:16.180499968   \n",
       "helpful_vote                                 0.0   \n",
       "verified_purchase                            NaN   \n",
       "\n",
       "                                             50%  \\\n",
       "rating                                       5.0   \n",
       "product_id                                   NaN   \n",
       "user_id                                      NaN   \n",
       "timestamp          2021-07-19 05:59:24.970499840   \n",
       "helpful_vote                                 0.0   \n",
       "verified_purchase                            NaN   \n",
       "\n",
       "                                             75%                         max  \\\n",
       "rating                                       5.0                         5.0   \n",
       "product_id                                   NaN                         NaN   \n",
       "user_id                                      NaN                         NaN   \n",
       "timestamp          2022-03-23 11:23:41.930749952  2023-09-10 22:12:32.123000   \n",
       "helpful_vote                                 0.0                       623.0   \n",
       "verified_purchase                            NaN                         NaN   \n",
       "\n",
       "                        std  \n",
       "rating             1.523778  \n",
       "product_id              NaN  \n",
       "user_id                 NaN  \n",
       "timestamp               NaN  \n",
       "helpful_vote       2.393297  \n",
       "verified_purchase       NaN  "
      ]
     },
     "execution_count": 10,
     "metadata": {},
     "output_type": "execute_result"
    }
   ],
   "source": [
    "df.describe(include='all').T"
   ]
  },
  {
   "cell_type": "markdown",
   "metadata": {},
   "source": [
    "It appears that there are no anomalies in each column."
   ]
  },
  {
   "cell_type": "markdown",
   "metadata": {},
   "source": [
    "## EDA"
   ]
  },
  {
   "cell_type": "markdown",
   "metadata": {},
   "source": [
    "Let's look at the distribution of rating, verified_purchase, and helpful_vote features in the dataset."
   ]
  },
  {
   "cell_type": "code",
   "execution_count": 11,
   "metadata": {},
   "outputs": [
    {
     "data": {
      "image/png": "[encoded data removed]",
      "text/plain": [
       "<Figure size 1500x500 with 3 Axes>"
      ]
     },
     "metadata": {},
     "output_type": "display_data"
    }
   ],
   "source": [
    "fig, ax = plt.subplots(1, 3,figsize=(15,5))\n",
    "for i, feature in enumerate(['rating', 'verified_purchase']):\n",
    "    sns.countplot(data=df, x=feature, ax=ax[i])\n",
    "    ax[i].set_title(f'Distribution of {feature}')\n",
    "    ax[i].set_xlabel(None)\n",
    "\n",
    "sns.boxplot(data=df, y='helpful_vote', ax=ax[2])\n",
    "ax[2].set_title('Distribution of helpful_vote')\n",
    "ax[2].set_ylabel('count')\n",
    "\n",
    "plt.tight_layout()\n",
    "plt.show()"
   ]
  },
  {
   "cell_type": "markdown",
   "metadata": {},
   "source": [
    "What days and times are users most active?"
   ]
  },
  {
   "cell_type": "code",
   "execution_count": 12,
   "metadata": {},
   "outputs": [
    {
     "data": {
      "image/png": "[encoded data removed]",
      "text/plain": [
       "<Figure size 1200x800 with 2 Axes>"
      ]
     },
     "metadata": {},
     "output_type": "display_data"
    }
   ],
   "source": [
    "df['day_of_week'] = df['timestamp'].dt.day_name()\n",
    "df['hour'] = df['timestamp'].dt.hour\n",
    "\n",
    "plt.figure(figsize=(12, 8))\n",
    "\n",
    "plt.subplot(2, 1, 1)\n",
    "ax1 = sns.countplot(data=df, x='day_of_week', order=df['day_of_week'].value_counts().index)\n",
    "plt.title('User active Days')\n",
    "plt.xlabel(None)\n",
    "\n",
    "plt.subplot(2, 1, 2)\n",
    "ax2 = sns.countplot(data=df, x='hour', order=df['hour'].value_counts().index)\n",
    "plt.title('User Active Hours')\n",
    "\n",
    "plt.tight_layout()\n",
    "plt.show()"
   ]
  },
  {
   "cell_type": "markdown",
   "metadata": {},
   "source": [
    "Now let's see how many ratings, unique product, and unique users are in the dataset."
   ]
  },
  {
   "cell_type": "code",
   "execution_count": 13,
   "metadata": {},
   "outputs": [
    {
     "name": "stdout",
     "output_type": "stream",
     "text": [
      "Number of ratings: 645986\n",
      "Number of users: 583876\n",
      "Number of products: 334902\n",
      "Average number of ratings per user: 1.11\n",
      "Average number of ratings per product: 1.93\n"
     ]
    }
   ],
   "source": [
    "n_ratings = len(df)\n",
    "n_users = df['user_id'].nunique()\n",
    "n_products = df['product_id'].nunique()\n",
    "\n",
    "print(f'Number of ratings: {n_ratings}')\n",
    "print(f'Number of users: {n_users}')\n",
    "print(f'Number of products: {n_products}')\n",
    "print(f'Average number of ratings per user: {round(n_ratings/n_users, 2)}')\n",
    "print(f'Average number of ratings per product: {round(n_ratings/n_products, 2)}')"
   ]
  },
  {
   "cell_type": "markdown",
   "metadata": {},
   "source": [
    "Let's see who gave the most ratings and distribution of user rating frequency."
   ]
  },
  {
   "cell_type": "code",
   "execution_count": 14,
   "metadata": {},
   "outputs": [
    {
     "data": {
      "text/html": [
       "<div>\n",
       "<style scoped>\n",
       "    .dataframe tbody tr th:only-of-type {\n",
       "        vertical-align: middle;\n",
       "    }\n",
       "\n",
       "    .dataframe tbody tr th {\n",
       "        vertical-align: top;\n",
       "    }\n",
       "\n",
       "    .dataframe thead th {\n",
       "        text-align: right;\n",
       "    }\n",
       "</style>\n",
       "<table border=\"1\" class=\"dataframe\">\n",
       "  <thead>\n",
       "    <tr style=\"text-align: right;\">\n",
       "      <th></th>\n",
       "      <th>user_id</th>\n",
       "      <th>n_ratings</th>\n",
       "    </tr>\n",
       "  </thead>\n",
       "  <tbody>\n",
       "    <tr>\n",
       "      <th>437790</th>\n",
       "      <td>AGZZXSMMS4WRHHJRBUJZI4FZDHKQ</td>\n",
       "      <td>148</td>\n",
       "    </tr>\n",
       "    <tr>\n",
       "      <th>535380</th>\n",
       "      <td>AHPG65LKS3QKRWDUWAKZNLEK5RZQ</td>\n",
       "      <td>94</td>\n",
       "    </tr>\n",
       "    <tr>\n",
       "      <th>535381</th>\n",
       "      <td>AHPG65LKS3QKRWDUWAKZNLEK5RZQ_1</td>\n",
       "      <td>83</td>\n",
       "    </tr>\n",
       "    <tr>\n",
       "      <th>494625</th>\n",
       "      <td>AHGIDR4IJFS23Q4GTZ33FI5LYDSQ_1</td>\n",
       "      <td>82</td>\n",
       "    </tr>\n",
       "    <tr>\n",
       "      <th>59187</th>\n",
       "      <td>AEGYU6OM2X66SMZN6AF3TSQ3N5PQ</td>\n",
       "      <td>75</td>\n",
       "    </tr>\n",
       "    <tr>\n",
       "      <th>...</th>\n",
       "      <td>...</td>\n",
       "      <td>...</td>\n",
       "    </tr>\n",
       "    <tr>\n",
       "      <th>201682</th>\n",
       "      <td>AFG7B6HBV72WBBGOKFQ53F63ON5Q</td>\n",
       "      <td>1</td>\n",
       "    </tr>\n",
       "    <tr>\n",
       "      <th>201681</th>\n",
       "      <td>AFG7B2DQNI6AFHCQO5EKQKBZGWVA</td>\n",
       "      <td>1</td>\n",
       "    </tr>\n",
       "    <tr>\n",
       "      <th>201679</th>\n",
       "      <td>AFG7AME5UI6PDH5YX5PFZ3GPCYTA</td>\n",
       "      <td>1</td>\n",
       "    </tr>\n",
       "    <tr>\n",
       "      <th>201678</th>\n",
       "      <td>AFG7AM3LAOFDCTJ6ESH2SPNAKJEQ</td>\n",
       "      <td>1</td>\n",
       "    </tr>\n",
       "    <tr>\n",
       "      <th>583875</th>\n",
       "      <td>AHZZZZ76NI5YF4RP5TKCQRGRQAGA</td>\n",
       "      <td>1</td>\n",
       "    </tr>\n",
       "  </tbody>\n",
       "</table>\n",
       "<p>583876 rows × 2 columns</p>\n",
       "</div>"
      ],
      "text/plain": [
       "                               user_id  n_ratings\n",
       "437790    AGZZXSMMS4WRHHJRBUJZI4FZDHKQ        148\n",
       "535380    AHPG65LKS3QKRWDUWAKZNLEK5RZQ         94\n",
       "535381  AHPG65LKS3QKRWDUWAKZNLEK5RZQ_1         83\n",
       "494625  AHGIDR4IJFS23Q4GTZ33FI5LYDSQ_1         82\n",
       "59187     AEGYU6OM2X66SMZN6AF3TSQ3N5PQ         75\n",
       "...                                ...        ...\n",
       "201682    AFG7B6HBV72WBBGOKFQ53F63ON5Q          1\n",
       "201681    AFG7B2DQNI6AFHCQO5EKQKBZGWVA          1\n",
       "201679    AFG7AME5UI6PDH5YX5PFZ3GPCYTA          1\n",
       "201678    AFG7AM3LAOFDCTJ6ESH2SPNAKJEQ          1\n",
       "583875    AHZZZZ76NI5YF4RP5TKCQRGRQAGA          1\n",
       "\n",
       "[583876 rows x 2 columns]"
      ]
     },
     "execution_count": 14,
     "metadata": {},
     "output_type": "execute_result"
    }
   ],
   "source": [
    "ratings_per_user = df[['user_id', 'product_id']].groupby('user_id').count().reset_index()\n",
    "ratings_per_user.columns = ['user_id', 'n_ratings']\n",
    "ratings_per_user.sort_values('n_ratings', ascending=False)"
   ]
  },
  {
   "cell_type": "code",
   "execution_count": 15,
   "metadata": {},
   "outputs": [
    {
     "data": {
      "image/png": "[encoded data removed]",
      "text/plain": [
       "<Figure size 640x480 with 1 Axes>"
      ]
     },
     "metadata": {},
     "output_type": "display_data"
    }
   ],
   "source": [
    "sns.set_style(\"whitegrid\")\n",
    "sns.kdeplot(ratings_per_user['n_ratings'], fill=True, legend=False)\n",
    "plt.title(\"Number of movies rated per user\")\n",
    "plt.xlabel(\"ratings per user\")\n",
    "plt.axvline(ratings_per_user['n_ratings'].mean(), color=\"k\", linestyle=\"--\")\n",
    "plt.show()"
   ]
  },
  {
   "cell_type": "markdown",
   "metadata": {},
   "source": [
    "What are the highest and lowest rated product?"
   ]
  },
  {
   "cell_type": "code",
   "execution_count": 16,
   "metadata": {},
   "outputs": [
    {
     "data": {
      "text/html": [
       "<div>\n",
       "<style scoped>\n",
       "    .dataframe tbody tr th:only-of-type {\n",
       "        vertical-align: middle;\n",
       "    }\n",
       "\n",
       "    .dataframe tbody tr th {\n",
       "        vertical-align: top;\n",
       "    }\n",
       "\n",
       "    .dataframe thead th {\n",
       "        text-align: right;\n",
       "    }\n",
       "</style>\n",
       "<table border=\"1\" class=\"dataframe\">\n",
       "  <thead>\n",
       "    <tr style=\"text-align: right;\">\n",
       "      <th></th>\n",
       "      <th>rating</th>\n",
       "    </tr>\n",
       "    <tr>\n",
       "      <th>product_id</th>\n",
       "      <th></th>\n",
       "    </tr>\n",
       "  </thead>\n",
       "  <tbody>\n",
       "    <tr>\n",
       "      <th>0512238944</th>\n",
       "      <td>5.0</td>\n",
       "    </tr>\n",
       "    <tr>\n",
       "      <th>0512238987</th>\n",
       "      <td>3.0</td>\n",
       "    </tr>\n",
       "    <tr>\n",
       "      <th>0512238995</th>\n",
       "      <td>5.0</td>\n",
       "    </tr>\n",
       "    <tr>\n",
       "      <th>0512239045</th>\n",
       "      <td>5.0</td>\n",
       "    </tr>\n",
       "    <tr>\n",
       "      <th>0512239134</th>\n",
       "      <td>5.0</td>\n",
       "    </tr>\n",
       "  </tbody>\n",
       "</table>\n",
       "</div>"
      ],
      "text/plain": [
       "            rating\n",
       "product_id        \n",
       "0512238944     5.0\n",
       "0512238987     3.0\n",
       "0512238995     5.0\n",
       "0512239045     5.0\n",
       "0512239134     5.0"
      ]
     },
     "execution_count": 16,
     "metadata": {},
     "output_type": "execute_result"
    }
   ],
   "source": [
    "mean_rating = df.groupby('product_id')[['rating']].mean()\n",
    "mean_rating.head()"
   ]
  },
  {
   "cell_type": "code",
   "execution_count": 17,
   "metadata": {},
   "outputs": [
    {
     "data": {
      "text/html": [
       "<div>\n",
       "<style scoped>\n",
       "    .dataframe tbody tr th:only-of-type {\n",
       "        vertical-align: middle;\n",
       "    }\n",
       "\n",
       "    .dataframe tbody tr th {\n",
       "        vertical-align: top;\n",
       "    }\n",
       "\n",
       "    .dataframe thead th {\n",
       "        text-align: right;\n",
       "    }\n",
       "</style>\n",
       "<table border=\"1\" class=\"dataframe\">\n",
       "  <thead>\n",
       "    <tr style=\"text-align: right;\">\n",
       "      <th></th>\n",
       "      <th>rating</th>\n",
       "      <th>product_id</th>\n",
       "      <th>user_id</th>\n",
       "      <th>timestamp</th>\n",
       "      <th>helpful_vote</th>\n",
       "      <th>verified_purchase</th>\n",
       "      <th>day_of_week</th>\n",
       "      <th>hour</th>\n",
       "    </tr>\n",
       "  </thead>\n",
       "  <tbody>\n",
       "    <tr>\n",
       "      <th>388743</th>\n",
       "      <td>5.0</td>\n",
       "      <td>0512238944</td>\n",
       "      <td>AFP7ALY4O7FJGR4QDW2F4ZFKHYWA</td>\n",
       "      <td>2022-06-24 18:41:57.692</td>\n",
       "      <td>0</td>\n",
       "      <td>False</td>\n",
       "      <td>Friday</td>\n",
       "      <td>18</td>\n",
       "    </tr>\n",
       "    <tr>\n",
       "      <th>496982</th>\n",
       "      <td>5.0</td>\n",
       "      <td>0512238944</td>\n",
       "      <td>AH4YEZV2KLY4ANWX6ULQGQC264NA</td>\n",
       "      <td>2022-05-18 11:54:32.495</td>\n",
       "      <td>0</td>\n",
       "      <td>True</td>\n",
       "      <td>Wednesday</td>\n",
       "      <td>11</td>\n",
       "    </tr>\n",
       "  </tbody>\n",
       "</table>\n",
       "</div>"
      ],
      "text/plain": [
       "        rating  product_id                       user_id  \\\n",
       "388743     5.0  0512238944  AFP7ALY4O7FJGR4QDW2F4ZFKHYWA   \n",
       "496982     5.0  0512238944  AH4YEZV2KLY4ANWX6ULQGQC264NA   \n",
       "\n",
       "                     timestamp  helpful_vote  verified_purchase day_of_week  \\\n",
       "388743 2022-06-24 18:41:57.692             0              False      Friday   \n",
       "496982 2022-05-18 11:54:32.495             0               True   Wednesday   \n",
       "\n",
       "        hour  \n",
       "388743    18  \n",
       "496982    11  "
      ]
     },
     "metadata": {},
     "output_type": "display_data"
    },
    {
     "data": {
      "text/html": [
       "<div>\n",
       "<style scoped>\n",
       "    .dataframe tbody tr th:only-of-type {\n",
       "        vertical-align: middle;\n",
       "    }\n",
       "\n",
       "    .dataframe tbody tr th {\n",
       "        vertical-align: top;\n",
       "    }\n",
       "\n",
       "    .dataframe thead th {\n",
       "        text-align: right;\n",
       "    }\n",
       "</style>\n",
       "<table border=\"1\" class=\"dataframe\">\n",
       "  <thead>\n",
       "    <tr style=\"text-align: right;\">\n",
       "      <th></th>\n",
       "      <th>rating</th>\n",
       "      <th>product_id</th>\n",
       "      <th>user_id</th>\n",
       "      <th>timestamp</th>\n",
       "      <th>helpful_vote</th>\n",
       "      <th>verified_purchase</th>\n",
       "      <th>day_of_week</th>\n",
       "      <th>hour</th>\n",
       "    </tr>\n",
       "  </thead>\n",
       "  <tbody>\n",
       "    <tr>\n",
       "      <th>35354</th>\n",
       "      <td>1.0</td>\n",
       "      <td>0610318861</td>\n",
       "      <td>AGUL4PZQIXTCSKV5JIGV45ZPQLVQ</td>\n",
       "      <td>2021-04-03 18:53:18.001</td>\n",
       "      <td>0</td>\n",
       "      <td>True</td>\n",
       "      <td>Saturday</td>\n",
       "      <td>18</td>\n",
       "    </tr>\n",
       "  </tbody>\n",
       "</table>\n",
       "</div>"
      ],
      "text/plain": [
       "       rating  product_id                       user_id  \\\n",
       "35354     1.0  0610318861  AGUL4PZQIXTCSKV5JIGV45ZPQLVQ   \n",
       "\n",
       "                    timestamp  helpful_vote  verified_purchase day_of_week  \\\n",
       "35354 2021-04-03 18:53:18.001             0               True    Saturday   \n",
       "\n",
       "       hour  \n",
       "35354    18  "
      ]
     },
     "metadata": {},
     "output_type": "display_data"
    }
   ],
   "source": [
    "display(df.loc[df['product_id'] == mean_rating['rating'].idxmax()],\n",
    "        df.loc[df['product_id'] == mean_rating['rating'].idxmin()])"
   ]
  },
  {
   "cell_type": "markdown",
   "metadata": {},
   "source": [
    "Although the product with id '0512238944' is the product with the highest average rating, it only received 2 reviews, which is not a good measure for a top product.\n",
    "\n",
    "We apply the Laplace Smoothing method, which is a technique that adds a constant to each category to avoid zero probability. To ensure that products with a small number of reviews do not dominate.\n",
    "\n",
    "$$ \\text{Laplace Score} = \\frac{\\sum R_i + k \\cdot R_{\\text{avg}}}{n + k} $$\n",
    "\n",
    "- ∑Ri​: Total number of rating for the product.\n",
    "- n: Number of product reviews.\n",
    "- k: Constant (the number of additional reviews we add).\n",
    "- Ravg​: Global average rating of all product."
   ]
  },
  {
   "cell_type": "code",
   "execution_count": 18,
   "metadata": {},
   "outputs": [
    {
     "data": {
      "text/html": [
       "<div>\n",
       "<style scoped>\n",
       "    .dataframe tbody tr th:only-of-type {\n",
       "        vertical-align: middle;\n",
       "    }\n",
       "\n",
       "    .dataframe tbody tr th {\n",
       "        vertical-align: top;\n",
       "    }\n",
       "\n",
       "    .dataframe thead th {\n",
       "        text-align: right;\n",
       "    }\n",
       "</style>\n",
       "<table border=\"1\" class=\"dataframe\">\n",
       "  <thead>\n",
       "    <tr style=\"text-align: right;\">\n",
       "      <th></th>\n",
       "      <th>product_id</th>\n",
       "      <th>rating_sum</th>\n",
       "      <th>rating_count</th>\n",
       "      <th>rating_mean</th>\n",
       "    </tr>\n",
       "  </thead>\n",
       "  <tbody>\n",
       "    <tr>\n",
       "      <th>0</th>\n",
       "      <td>0512238944</td>\n",
       "      <td>10.0</td>\n",
       "      <td>2</td>\n",
       "      <td>5.0</td>\n",
       "    </tr>\n",
       "    <tr>\n",
       "      <th>1</th>\n",
       "      <td>0512238987</td>\n",
       "      <td>3.0</td>\n",
       "      <td>1</td>\n",
       "      <td>3.0</td>\n",
       "    </tr>\n",
       "    <tr>\n",
       "      <th>2</th>\n",
       "      <td>0512238995</td>\n",
       "      <td>10.0</td>\n",
       "      <td>2</td>\n",
       "      <td>5.0</td>\n",
       "    </tr>\n",
       "    <tr>\n",
       "      <th>3</th>\n",
       "      <td>0512239045</td>\n",
       "      <td>5.0</td>\n",
       "      <td>1</td>\n",
       "      <td>5.0</td>\n",
       "    </tr>\n",
       "    <tr>\n",
       "      <th>4</th>\n",
       "      <td>0512239134</td>\n",
       "      <td>5.0</td>\n",
       "      <td>1</td>\n",
       "      <td>5.0</td>\n",
       "    </tr>\n",
       "  </tbody>\n",
       "</table>\n",
       "</div>"
      ],
      "text/plain": [
       "   product_id  rating_sum  rating_count  rating_mean\n",
       "0  0512238944        10.0             2          5.0\n",
       "1  0512238987         3.0             1          3.0\n",
       "2  0512238995        10.0             2          5.0\n",
       "3  0512239045         5.0             1          5.0\n",
       "4  0512239134         5.0             1          5.0"
      ]
     },
     "execution_count": 18,
     "metadata": {},
     "output_type": "execute_result"
    }
   ],
   "source": [
    "product_ratings = df.groupby('product_id').agg(\n",
    "    rating_sum=('rating', 'sum'),\n",
    "    rating_count=('rating', 'count'),\n",
    "    rating_mean=('rating', 'mean')\n",
    ").reset_index()\n",
    "product_ratings.head()"
   ]
  },
  {
   "cell_type": "code",
   "execution_count": 19,
   "metadata": {},
   "outputs": [
    {
     "name": "stdout",
     "output_type": "stream",
     "text": [
      "Highest Product:\n",
      "             rating_sum  rating_count  rating_mean  laplace_score\n",
      "product_id                                                      \n",
      "B0B9144W3P       633.0           128     4.945312       4.903979\n",
      "B0B93NHYXG      2090.0           427     4.894614       4.882475\n",
      "B0B93KC657       160.0            32     5.000000       4.844033\n",
      "B08CDTNQ5G       677.0           139     4.870504       4.834925\n",
      "B08DNPCWDS       237.0            48     4.937500       4.834514\n",
      "B0B1B2PM71       140.0            28     5.000000       4.825128\n",
      "B003WJZDQW       468.0            96     4.875000       4.824052\n",
      "B088H3VDXX       260.0            53     4.905660       4.814297\n",
      "B08DQS3QRQ       197.0            40     4.925000       4.805094\n",
      "B07YB19RRY       197.0            40     4.925000       4.805094 \n",
      "\n",
      "Lowest Product:\n",
      "             rating_sum  rating_count  rating_mean  laplace_score\n",
      "product_id                                                      \n",
      "B08R79TYXQ        54.0            38     1.421053       1.703005\n",
      "B01M3SV3FX        25.0            21     1.190476       1.701124\n",
      "B09DPRTVG7        35.0            28     1.250000       1.643310\n",
      "B092M8DBJM        32.0            27     1.185185       1.600913\n",
      "B00SJP3KOG       180.0           122     1.475410       1.568734\n",
      "B09GJTN99F        79.0            58     1.362069       1.559194\n",
      "B09GJWCBDP        32.0            29     1.103448       1.506742\n",
      "B08837C8BY       188.0           133     1.413534       1.501661\n",
      "B09C3S85NC        51.0            42     1.214286       1.494239\n",
      "B08KPWYH7B        49.0            45     1.088889       1.364584\n"
     ]
    }
   ],
   "source": [
    "def laplace_smoothing(row, global_avg, k):\n",
    "    return (row['rating_sum'] + k * global_avg) / (row['rating_count'] + k)\n",
    "\n",
    "global_avg_rating = df['rating'].mean()\n",
    "\n",
    "product_ratings['laplace_score'] = product_ratings.apply(\n",
    "    laplace_smoothing, global_avg=global_avg_rating, k=5, axis=1\n",
    ")\n",
    "\n",
    "top_products = product_ratings.sort_values('laplace_score', ascending=False)\n",
    "top_products = top_products.set_index('product_id')\n",
    "print('Highest Product:\\n', top_products.head(10), '\\n')\n",
    "print('Lowest Product:\\n', top_products.tail(10))"
   ]
  },
  {
   "cell_type": "markdown",
   "metadata": {},
   "source": [
    "Based on the laplace score result, produk with id '0512238944' (top product before Laplace Smoothing is applied) is not visible in the top product list. The product that has the highest laplace score is the product with product_id 'B0B9144W3P', let's check the product details."
   ]
  },
  {
   "cell_type": "code",
   "execution_count": 20,
   "metadata": {},
   "outputs": [
    {
     "data": {
      "text/plain": [
       "rating\n",
       "5.0    122\n",
       "4.0      5\n",
       "3.0      1\n",
       "Name: count, dtype: int64"
      ]
     },
     "metadata": {},
     "output_type": "display_data"
    },
    {
     "data": {
      "text/html": [
       "<div>\n",
       "<style scoped>\n",
       "    .dataframe tbody tr th:only-of-type {\n",
       "        vertical-align: middle;\n",
       "    }\n",
       "\n",
       "    .dataframe tbody tr th {\n",
       "        vertical-align: top;\n",
       "    }\n",
       "\n",
       "    .dataframe thead th {\n",
       "        text-align: right;\n",
       "    }\n",
       "</style>\n",
       "<table border=\"1\" class=\"dataframe\">\n",
       "  <thead>\n",
       "    <tr style=\"text-align: right;\">\n",
       "      <th></th>\n",
       "      <th>rating</th>\n",
       "      <th>product_id</th>\n",
       "      <th>user_id</th>\n",
       "      <th>timestamp</th>\n",
       "      <th>helpful_vote</th>\n",
       "      <th>verified_purchase</th>\n",
       "      <th>day_of_week</th>\n",
       "      <th>hour</th>\n",
       "    </tr>\n",
       "  </thead>\n",
       "  <tbody>\n",
       "    <tr>\n",
       "      <th>2895</th>\n",
       "      <td>4.0</td>\n",
       "      <td>B0B9144W3P</td>\n",
       "      <td>AEJTVQO2CAMBATXDKI3FHFNA2YXQ</td>\n",
       "      <td>2022-12-11 11:58:42.359</td>\n",
       "      <td>0</td>\n",
       "      <td>True</td>\n",
       "      <td>Sunday</td>\n",
       "      <td>11</td>\n",
       "    </tr>\n",
       "    <tr>\n",
       "      <th>14800</th>\n",
       "      <td>5.0</td>\n",
       "      <td>B0B9144W3P</td>\n",
       "      <td>AGYLJX6H7WHB6JXZG43JIASY4GLQ</td>\n",
       "      <td>2022-10-27 12:32:17.033</td>\n",
       "      <td>0</td>\n",
       "      <td>True</td>\n",
       "      <td>Thursday</td>\n",
       "      <td>12</td>\n",
       "    </tr>\n",
       "    <tr>\n",
       "      <th>47363</th>\n",
       "      <td>5.0</td>\n",
       "      <td>B0B9144W3P</td>\n",
       "      <td>AHHWLOCRHVWUPVMA7VZRHB25Q5YA</td>\n",
       "      <td>2022-11-11 14:20:56.986</td>\n",
       "      <td>0</td>\n",
       "      <td>True</td>\n",
       "      <td>Friday</td>\n",
       "      <td>14</td>\n",
       "    </tr>\n",
       "    <tr>\n",
       "      <th>47531</th>\n",
       "      <td>5.0</td>\n",
       "      <td>B0B9144W3P</td>\n",
       "      <td>AH4Q76PAHTYTJNK4VOEN3L6FIW4A</td>\n",
       "      <td>2022-11-07 15:38:26.904</td>\n",
       "      <td>0</td>\n",
       "      <td>True</td>\n",
       "      <td>Monday</td>\n",
       "      <td>15</td>\n",
       "    </tr>\n",
       "    <tr>\n",
       "      <th>56372</th>\n",
       "      <td>5.0</td>\n",
       "      <td>B0B9144W3P</td>\n",
       "      <td>AFIJ6JS2MAUIB3ZSADU7NAWUEFOA</td>\n",
       "      <td>2022-10-25 00:30:42.546</td>\n",
       "      <td>0</td>\n",
       "      <td>True</td>\n",
       "      <td>Tuesday</td>\n",
       "      <td>0</td>\n",
       "    </tr>\n",
       "    <tr>\n",
       "      <th>...</th>\n",
       "      <td>...</td>\n",
       "      <td>...</td>\n",
       "      <td>...</td>\n",
       "      <td>...</td>\n",
       "      <td>...</td>\n",
       "      <td>...</td>\n",
       "      <td>...</td>\n",
       "      <td>...</td>\n",
       "    </tr>\n",
       "    <tr>\n",
       "      <th>644107</th>\n",
       "      <td>5.0</td>\n",
       "      <td>B0B9144W3P</td>\n",
       "      <td>AEF2T43R6R3WJDUDNBZ3L4LSKCYQ</td>\n",
       "      <td>2022-11-01 15:52:59.274</td>\n",
       "      <td>0</td>\n",
       "      <td>True</td>\n",
       "      <td>Tuesday</td>\n",
       "      <td>15</td>\n",
       "    </tr>\n",
       "    <tr>\n",
       "      <th>645057</th>\n",
       "      <td>5.0</td>\n",
       "      <td>B0B9144W3P</td>\n",
       "      <td>AEELDMMAFDFSLBJJBJZLGPLN5MVQ</td>\n",
       "      <td>2022-11-03 13:13:58.386</td>\n",
       "      <td>0</td>\n",
       "      <td>True</td>\n",
       "      <td>Thursday</td>\n",
       "      <td>13</td>\n",
       "    </tr>\n",
       "    <tr>\n",
       "      <th>645416</th>\n",
       "      <td>5.0</td>\n",
       "      <td>B0B9144W3P</td>\n",
       "      <td>AEETF62N57H4L4C4H2WAEPCG3IIA</td>\n",
       "      <td>2022-10-25 20:58:46.806</td>\n",
       "      <td>0</td>\n",
       "      <td>True</td>\n",
       "      <td>Tuesday</td>\n",
       "      <td>20</td>\n",
       "    </tr>\n",
       "    <tr>\n",
       "      <th>647831</th>\n",
       "      <td>5.0</td>\n",
       "      <td>B0B9144W3P</td>\n",
       "      <td>AG67X4BK34H74TJ7QGP2WKELKAAQ</td>\n",
       "      <td>2022-10-31 16:53:38.837</td>\n",
       "      <td>0</td>\n",
       "      <td>True</td>\n",
       "      <td>Monday</td>\n",
       "      <td>16</td>\n",
       "    </tr>\n",
       "    <tr>\n",
       "      <th>652210</th>\n",
       "      <td>5.0</td>\n",
       "      <td>B0B9144W3P</td>\n",
       "      <td>AHAXIEG6SIEEBKLCMOWARZADTPAQ</td>\n",
       "      <td>2022-11-02 02:09:36.580</td>\n",
       "      <td>0</td>\n",
       "      <td>True</td>\n",
       "      <td>Wednesday</td>\n",
       "      <td>2</td>\n",
       "    </tr>\n",
       "  </tbody>\n",
       "</table>\n",
       "<p>128 rows × 8 columns</p>\n",
       "</div>"
      ],
      "text/plain": [
       "        rating  product_id                       user_id  \\\n",
       "2895       4.0  B0B9144W3P  AEJTVQO2CAMBATXDKI3FHFNA2YXQ   \n",
       "14800      5.0  B0B9144W3P  AGYLJX6H7WHB6JXZG43JIASY4GLQ   \n",
       "47363      5.0  B0B9144W3P  AHHWLOCRHVWUPVMA7VZRHB25Q5YA   \n",
       "47531      5.0  B0B9144W3P  AH4Q76PAHTYTJNK4VOEN3L6FIW4A   \n",
       "56372      5.0  B0B9144W3P  AFIJ6JS2MAUIB3ZSADU7NAWUEFOA   \n",
       "...        ...         ...                           ...   \n",
       "644107     5.0  B0B9144W3P  AEF2T43R6R3WJDUDNBZ3L4LSKCYQ   \n",
       "645057     5.0  B0B9144W3P  AEELDMMAFDFSLBJJBJZLGPLN5MVQ   \n",
       "645416     5.0  B0B9144W3P  AEETF62N57H4L4C4H2WAEPCG3IIA   \n",
       "647831     5.0  B0B9144W3P  AG67X4BK34H74TJ7QGP2WKELKAAQ   \n",
       "652210     5.0  B0B9144W3P  AHAXIEG6SIEEBKLCMOWARZADTPAQ   \n",
       "\n",
       "                     timestamp  helpful_vote  verified_purchase day_of_week  \\\n",
       "2895   2022-12-11 11:58:42.359             0               True      Sunday   \n",
       "14800  2022-10-27 12:32:17.033             0               True    Thursday   \n",
       "47363  2022-11-11 14:20:56.986             0               True      Friday   \n",
       "47531  2022-11-07 15:38:26.904             0               True      Monday   \n",
       "56372  2022-10-25 00:30:42.546             0               True     Tuesday   \n",
       "...                        ...           ...                ...         ...   \n",
       "644107 2022-11-01 15:52:59.274             0               True     Tuesday   \n",
       "645057 2022-11-03 13:13:58.386             0               True    Thursday   \n",
       "645416 2022-10-25 20:58:46.806             0               True     Tuesday   \n",
       "647831 2022-10-31 16:53:38.837             0               True      Monday   \n",
       "652210 2022-11-02 02:09:36.580             0               True   Wednesday   \n",
       "\n",
       "        hour  \n",
       "2895      11  \n",
       "14800     12  \n",
       "47363     14  \n",
       "47531     15  \n",
       "56372      0  \n",
       "...      ...  \n",
       "644107    15  \n",
       "645057    13  \n",
       "645416    20  \n",
       "647831    16  \n",
       "652210     2  \n",
       "\n",
       "[128 rows x 8 columns]"
      ]
     },
     "metadata": {},
     "output_type": "display_data"
    }
   ],
   "source": [
    "display(df[df['product_id']=='B0B9144W3P'].rating.value_counts(),\n",
    "        df[df['product_id']=='B0B9144W3P'])"
   ]
  },
  {
   "cell_type": "markdown",
   "metadata": {},
   "source": [
    "It appears that the product has quite good reviews."
   ]
  },
  {
   "cell_type": "markdown",
   "metadata": {},
   "source": [
    "## Data Preparation"
   ]
  },
  {
   "cell_type": "markdown",
   "metadata": {},
   "source": [
    "We select the features that will be used in the model."
   ]
  },
  {
   "cell_type": "code",
   "execution_count": 21,
   "metadata": {},
   "outputs": [
    {
     "data": {
      "text/html": [
       "<div>\n",
       "<style scoped>\n",
       "    .dataframe tbody tr th:only-of-type {\n",
       "        vertical-align: middle;\n",
       "    }\n",
       "\n",
       "    .dataframe tbody tr th {\n",
       "        vertical-align: top;\n",
       "    }\n",
       "\n",
       "    .dataframe thead th {\n",
       "        text-align: right;\n",
       "    }\n",
       "</style>\n",
       "<table border=\"1\" class=\"dataframe\">\n",
       "  <thead>\n",
       "    <tr style=\"text-align: right;\">\n",
       "      <th></th>\n",
       "      <th>user_id</th>\n",
       "      <th>product_id</th>\n",
       "      <th>rating</th>\n",
       "      <th>helpful_vote</th>\n",
       "      <th>verified_purchase</th>\n",
       "    </tr>\n",
       "  </thead>\n",
       "  <tbody>\n",
       "    <tr>\n",
       "      <th>0</th>\n",
       "      <td>AFQLNQNQYFWQZPJQZS6V3NZU4QBQ</td>\n",
       "      <td>B07B4JXK8D</td>\n",
       "      <td>5.0</td>\n",
       "      <td>0</td>\n",
       "      <td>True</td>\n",
       "    </tr>\n",
       "    <tr>\n",
       "      <th>1</th>\n",
       "      <td>AHTTU2FL6FCNBBAESCJHOHHSSW7A</td>\n",
       "      <td>B089S8MFCQ</td>\n",
       "      <td>3.0</td>\n",
       "      <td>0</td>\n",
       "      <td>True</td>\n",
       "    </tr>\n",
       "    <tr>\n",
       "      <th>2</th>\n",
       "      <td>AEQAYV7RXZEBXMQIQPL6KCT2CFWQ</td>\n",
       "      <td>B087M39LVV</td>\n",
       "      <td>5.0</td>\n",
       "      <td>0</td>\n",
       "      <td>True</td>\n",
       "    </tr>\n",
       "    <tr>\n",
       "      <th>3</th>\n",
       "      <td>AEVPPTMG43C6GWSR7I2UGRQN7WFQ</td>\n",
       "      <td>B091GMMYPS</td>\n",
       "      <td>5.0</td>\n",
       "      <td>0</td>\n",
       "      <td>True</td>\n",
       "    </tr>\n",
       "    <tr>\n",
       "      <th>4</th>\n",
       "      <td>AHREXOGQPZDA6354MHH4ETSF3MCQ</td>\n",
       "      <td>B09DQ5M2BB</td>\n",
       "      <td>2.0</td>\n",
       "      <td>1</td>\n",
       "      <td>True</td>\n",
       "    </tr>\n",
       "  </tbody>\n",
       "</table>\n",
       "</div>"
      ],
      "text/plain": [
       "                        user_id  product_id  rating  helpful_vote  \\\n",
       "0  AFQLNQNQYFWQZPJQZS6V3NZU4QBQ  B07B4JXK8D     5.0             0   \n",
       "1  AHTTU2FL6FCNBBAESCJHOHHSSW7A  B089S8MFCQ     3.0             0   \n",
       "2  AEQAYV7RXZEBXMQIQPL6KCT2CFWQ  B087M39LVV     5.0             0   \n",
       "3  AEVPPTMG43C6GWSR7I2UGRQN7WFQ  B091GMMYPS     5.0             0   \n",
       "4  AHREXOGQPZDA6354MHH4ETSF3MCQ  B09DQ5M2BB     2.0             1   \n",
       "\n",
       "   verified_purchase  \n",
       "0               True  \n",
       "1               True  \n",
       "2               True  \n",
       "3               True  \n",
       "4               True  "
      ]
     },
     "execution_count": 21,
     "metadata": {},
     "output_type": "execute_result"
    }
   ],
   "source": [
    "main_df = df[['user_id', 'product_id', 'rating', 'helpful_vote', 'verified_purchase']]\n",
    "main_df.head()"
   ]
  },
  {
   "cell_type": "markdown",
   "metadata": {},
   "source": [
    "Then we normalise the feature rating and helpful_vote to have the same scale."
   ]
  },
  {
   "cell_type": "code",
   "execution_count": 22,
   "metadata": {},
   "outputs": [
    {
     "name": "stderr",
     "output_type": "stream",
     "text": [
      "C:\\Users\\LENOVO\\AppData\\Local\\Temp\\ipykernel_13808\\3336202175.py:1: SettingWithCopyWarning: \n",
      "A value is trying to be set on a copy of a slice from a DataFrame.\n",
      "Try using .loc[row_indexer,col_indexer] = value instead\n",
      "\n",
      "See the caveats in the documentation: https://pandas.pydata.org/pandas-docs/stable/user_guide/indexing.html#returning-a-view-versus-a-copy\n",
      "  main_df['helpful_vote_norm'] = main_df['helpful_vote'] / main_df['helpful_vote'].max()\n",
      "C:\\Users\\LENOVO\\AppData\\Local\\Temp\\ipykernel_13808\\3336202175.py:2: SettingWithCopyWarning: \n",
      "A value is trying to be set on a copy of a slice from a DataFrame.\n",
      "Try using .loc[row_indexer,col_indexer] = value instead\n",
      "\n",
      "See the caveats in the documentation: https://pandas.pydata.org/pandas-docs/stable/user_guide/indexing.html#returning-a-view-versus-a-copy\n",
      "  main_df['rating_norm'] = main_df['rating'] / main_df['rating'].max()\n"
     ]
    },
    {
     "data": {
      "text/html": [
       "<div>\n",
       "<style scoped>\n",
       "    .dataframe tbody tr th:only-of-type {\n",
       "        vertical-align: middle;\n",
       "    }\n",
       "\n",
       "    .dataframe tbody tr th {\n",
       "        vertical-align: top;\n",
       "    }\n",
       "\n",
       "    .dataframe thead th {\n",
       "        text-align: right;\n",
       "    }\n",
       "</style>\n",
       "<table border=\"1\" class=\"dataframe\">\n",
       "  <thead>\n",
       "    <tr style=\"text-align: right;\">\n",
       "      <th></th>\n",
       "      <th>user_id</th>\n",
       "      <th>product_id</th>\n",
       "      <th>rating</th>\n",
       "      <th>helpful_vote</th>\n",
       "      <th>verified_purchase</th>\n",
       "      <th>helpful_vote_norm</th>\n",
       "      <th>rating_norm</th>\n",
       "    </tr>\n",
       "  </thead>\n",
       "  <tbody>\n",
       "    <tr>\n",
       "      <th>0</th>\n",
       "      <td>AFQLNQNQYFWQZPJQZS6V3NZU4QBQ</td>\n",
       "      <td>B07B4JXK8D</td>\n",
       "      <td>5.0</td>\n",
       "      <td>0</td>\n",
       "      <td>True</td>\n",
       "      <td>0.000000</td>\n",
       "      <td>1.0</td>\n",
       "    </tr>\n",
       "    <tr>\n",
       "      <th>1</th>\n",
       "      <td>AHTTU2FL6FCNBBAESCJHOHHSSW7A</td>\n",
       "      <td>B089S8MFCQ</td>\n",
       "      <td>3.0</td>\n",
       "      <td>0</td>\n",
       "      <td>True</td>\n",
       "      <td>0.000000</td>\n",
       "      <td>0.6</td>\n",
       "    </tr>\n",
       "    <tr>\n",
       "      <th>2</th>\n",
       "      <td>AEQAYV7RXZEBXMQIQPL6KCT2CFWQ</td>\n",
       "      <td>B087M39LVV</td>\n",
       "      <td>5.0</td>\n",
       "      <td>0</td>\n",
       "      <td>True</td>\n",
       "      <td>0.000000</td>\n",
       "      <td>1.0</td>\n",
       "    </tr>\n",
       "    <tr>\n",
       "      <th>3</th>\n",
       "      <td>AEVPPTMG43C6GWSR7I2UGRQN7WFQ</td>\n",
       "      <td>B091GMMYPS</td>\n",
       "      <td>5.0</td>\n",
       "      <td>0</td>\n",
       "      <td>True</td>\n",
       "      <td>0.000000</td>\n",
       "      <td>1.0</td>\n",
       "    </tr>\n",
       "    <tr>\n",
       "      <th>4</th>\n",
       "      <td>AHREXOGQPZDA6354MHH4ETSF3MCQ</td>\n",
       "      <td>B09DQ5M2BB</td>\n",
       "      <td>2.0</td>\n",
       "      <td>1</td>\n",
       "      <td>True</td>\n",
       "      <td>0.001605</td>\n",
       "      <td>0.4</td>\n",
       "    </tr>\n",
       "  </tbody>\n",
       "</table>\n",
       "</div>"
      ],
      "text/plain": [
       "                        user_id  product_id  rating  helpful_vote  \\\n",
       "0  AFQLNQNQYFWQZPJQZS6V3NZU4QBQ  B07B4JXK8D     5.0             0   \n",
       "1  AHTTU2FL6FCNBBAESCJHOHHSSW7A  B089S8MFCQ     3.0             0   \n",
       "2  AEQAYV7RXZEBXMQIQPL6KCT2CFWQ  B087M39LVV     5.0             0   \n",
       "3  AEVPPTMG43C6GWSR7I2UGRQN7WFQ  B091GMMYPS     5.0             0   \n",
       "4  AHREXOGQPZDA6354MHH4ETSF3MCQ  B09DQ5M2BB     2.0             1   \n",
       "\n",
       "   verified_purchase  helpful_vote_norm  rating_norm  \n",
       "0               True           0.000000          1.0  \n",
       "1               True           0.000000          0.6  \n",
       "2               True           0.000000          1.0  \n",
       "3               True           0.000000          1.0  \n",
       "4               True           0.001605          0.4  "
      ]
     },
     "execution_count": 22,
     "metadata": {},
     "output_type": "execute_result"
    }
   ],
   "source": [
    "main_df['helpful_vote_norm'] = main_df['helpful_vote'] / main_df['helpful_vote'].max()\n",
    "main_df['rating_norm'] = main_df['rating'] / main_df['rating'].max()\n",
    "main_df.head()"
   ]
  },
  {
   "cell_type": "code",
   "execution_count": 23,
   "metadata": {},
   "outputs": [
    {
     "data": {
      "text/html": [
       "<div>\n",
       "<style scoped>\n",
       "    .dataframe tbody tr th:only-of-type {\n",
       "        vertical-align: middle;\n",
       "    }\n",
       "\n",
       "    .dataframe tbody tr th {\n",
       "        vertical-align: top;\n",
       "    }\n",
       "\n",
       "    .dataframe thead th {\n",
       "        text-align: right;\n",
       "    }\n",
       "</style>\n",
       "<table border=\"1\" class=\"dataframe\">\n",
       "  <thead>\n",
       "    <tr style=\"text-align: right;\">\n",
       "      <th></th>\n",
       "      <th>count</th>\n",
       "      <th>mean</th>\n",
       "      <th>std</th>\n",
       "      <th>min</th>\n",
       "      <th>25%</th>\n",
       "      <th>50%</th>\n",
       "      <th>75%</th>\n",
       "      <th>max</th>\n",
       "    </tr>\n",
       "  </thead>\n",
       "  <tbody>\n",
       "    <tr>\n",
       "      <th>rating</th>\n",
       "      <td>645986.0</td>\n",
       "      <td>3.845845</td>\n",
       "      <td>1.523778</td>\n",
       "      <td>1.0</td>\n",
       "      <td>3.0</td>\n",
       "      <td>5.0</td>\n",
       "      <td>5.0</td>\n",
       "      <td>5.0</td>\n",
       "    </tr>\n",
       "    <tr>\n",
       "      <th>helpful_vote</th>\n",
       "      <td>645986.0</td>\n",
       "      <td>0.382920</td>\n",
       "      <td>2.393297</td>\n",
       "      <td>0.0</td>\n",
       "      <td>0.0</td>\n",
       "      <td>0.0</td>\n",
       "      <td>0.0</td>\n",
       "      <td>623.0</td>\n",
       "    </tr>\n",
       "    <tr>\n",
       "      <th>helpful_vote_norm</th>\n",
       "      <td>645986.0</td>\n",
       "      <td>0.000615</td>\n",
       "      <td>0.003842</td>\n",
       "      <td>0.0</td>\n",
       "      <td>0.0</td>\n",
       "      <td>0.0</td>\n",
       "      <td>0.0</td>\n",
       "      <td>1.0</td>\n",
       "    </tr>\n",
       "    <tr>\n",
       "      <th>rating_norm</th>\n",
       "      <td>645986.0</td>\n",
       "      <td>0.769169</td>\n",
       "      <td>0.304756</td>\n",
       "      <td>0.2</td>\n",
       "      <td>0.6</td>\n",
       "      <td>1.0</td>\n",
       "      <td>1.0</td>\n",
       "      <td>1.0</td>\n",
       "    </tr>\n",
       "  </tbody>\n",
       "</table>\n",
       "</div>"
      ],
      "text/plain": [
       "                      count      mean       std  min  25%  50%  75%    max\n",
       "rating             645986.0  3.845845  1.523778  1.0  3.0  5.0  5.0    5.0\n",
       "helpful_vote       645986.0  0.382920  2.393297  0.0  0.0  0.0  0.0  623.0\n",
       "helpful_vote_norm  645986.0  0.000615  0.003842  0.0  0.0  0.0  0.0    1.0\n",
       "rating_norm        645986.0  0.769169  0.304756  0.2  0.6  1.0  1.0    1.0"
      ]
     },
     "execution_count": 23,
     "metadata": {},
     "output_type": "execute_result"
    }
   ],
   "source": [
    "main_df.describe().T"
   ]
  },
  {
   "cell_type": "markdown",
   "metadata": {},
   "source": [
    "We weight the three features to get the implicit score."
   ]
  },
  {
   "cell_type": "code",
   "execution_count": 24,
   "metadata": {},
   "outputs": [
    {
     "data": {
      "text/html": [
       "<div>\n",
       "<style scoped>\n",
       "    .dataframe tbody tr th:only-of-type {\n",
       "        vertical-align: middle;\n",
       "    }\n",
       "\n",
       "    .dataframe tbody tr th {\n",
       "        vertical-align: top;\n",
       "    }\n",
       "\n",
       "    .dataframe thead th {\n",
       "        text-align: right;\n",
       "    }\n",
       "</style>\n",
       "<table border=\"1\" class=\"dataframe\">\n",
       "  <thead>\n",
       "    <tr style=\"text-align: right;\">\n",
       "      <th></th>\n",
       "      <th>user_id</th>\n",
       "      <th>product_id</th>\n",
       "      <th>rating</th>\n",
       "      <th>helpful_vote</th>\n",
       "      <th>verified_purchase</th>\n",
       "      <th>helpful_vote_norm</th>\n",
       "      <th>rating_norm</th>\n",
       "      <th>implicit_score</th>\n",
       "    </tr>\n",
       "  </thead>\n",
       "  <tbody>\n",
       "    <tr>\n",
       "      <th>0</th>\n",
       "      <td>AFQLNQNQYFWQZPJQZS6V3NZU4QBQ</td>\n",
       "      <td>B07B4JXK8D</td>\n",
       "      <td>5.0</td>\n",
       "      <td>0</td>\n",
       "      <td>True</td>\n",
       "      <td>0.000000</td>\n",
       "      <td>1.0</td>\n",
       "      <td>0.700000</td>\n",
       "    </tr>\n",
       "    <tr>\n",
       "      <th>1</th>\n",
       "      <td>AHTTU2FL6FCNBBAESCJHOHHSSW7A</td>\n",
       "      <td>B089S8MFCQ</td>\n",
       "      <td>3.0</td>\n",
       "      <td>0</td>\n",
       "      <td>True</td>\n",
       "      <td>0.000000</td>\n",
       "      <td>0.6</td>\n",
       "      <td>0.500000</td>\n",
       "    </tr>\n",
       "    <tr>\n",
       "      <th>2</th>\n",
       "      <td>AEQAYV7RXZEBXMQIQPL6KCT2CFWQ</td>\n",
       "      <td>B087M39LVV</td>\n",
       "      <td>5.0</td>\n",
       "      <td>0</td>\n",
       "      <td>True</td>\n",
       "      <td>0.000000</td>\n",
       "      <td>1.0</td>\n",
       "      <td>0.700000</td>\n",
       "    </tr>\n",
       "    <tr>\n",
       "      <th>3</th>\n",
       "      <td>AEVPPTMG43C6GWSR7I2UGRQN7WFQ</td>\n",
       "      <td>B091GMMYPS</td>\n",
       "      <td>5.0</td>\n",
       "      <td>0</td>\n",
       "      <td>True</td>\n",
       "      <td>0.000000</td>\n",
       "      <td>1.0</td>\n",
       "      <td>0.700000</td>\n",
       "    </tr>\n",
       "    <tr>\n",
       "      <th>4</th>\n",
       "      <td>AHREXOGQPZDA6354MHH4ETSF3MCQ</td>\n",
       "      <td>B09DQ5M2BB</td>\n",
       "      <td>2.0</td>\n",
       "      <td>1</td>\n",
       "      <td>True</td>\n",
       "      <td>0.001605</td>\n",
       "      <td>0.4</td>\n",
       "      <td>0.400482</td>\n",
       "    </tr>\n",
       "  </tbody>\n",
       "</table>\n",
       "</div>"
      ],
      "text/plain": [
       "                        user_id  product_id  rating  helpful_vote  \\\n",
       "0  AFQLNQNQYFWQZPJQZS6V3NZU4QBQ  B07B4JXK8D     5.0             0   \n",
       "1  AHTTU2FL6FCNBBAESCJHOHHSSW7A  B089S8MFCQ     3.0             0   \n",
       "2  AEQAYV7RXZEBXMQIQPL6KCT2CFWQ  B087M39LVV     5.0             0   \n",
       "3  AEVPPTMG43C6GWSR7I2UGRQN7WFQ  B091GMMYPS     5.0             0   \n",
       "4  AHREXOGQPZDA6354MHH4ETSF3MCQ  B09DQ5M2BB     2.0             1   \n",
       "\n",
       "   verified_purchase  helpful_vote_norm  rating_norm  implicit_score  \n",
       "0               True           0.000000          1.0        0.700000  \n",
       "1               True           0.000000          0.6        0.500000  \n",
       "2               True           0.000000          1.0        0.700000  \n",
       "3               True           0.000000          1.0        0.700000  \n",
       "4               True           0.001605          0.4        0.400482  "
      ]
     },
     "execution_count": 24,
     "metadata": {},
     "output_type": "execute_result"
    }
   ],
   "source": [
    "main_df['implicit_score'] = (\n",
    "    0.5 * main_df['rating_norm'] +\n",
    "    0.3 * main_df['helpful_vote_norm'] +\n",
    "    0.2 * main_df['verified_purchase'].astype(int))\n",
    "main_df.head()"
   ]
  },
  {
   "cell_type": "markdown",
   "metadata": {},
   "source": [
    "And then we create a matrix that will be used to train the model with user_id as the row index, product_id as the column index, and implicit score as the value of the matrix. "
   ]
  },
  {
   "cell_type": "code",
   "execution_count": 25,
   "metadata": {},
   "outputs": [
    {
     "data": {
      "text/plain": [
       "<583876x334902 sparse matrix of type '<class 'numpy.float64'>'\n",
       "\twith 645985 stored elements in Compressed Sparse Row format>"
      ]
     },
     "execution_count": 25,
     "metadata": {},
     "output_type": "execute_result"
    }
   ],
   "source": [
    "from scipy.sparse import csr_matrix\n",
    "\n",
    "U = main_df['user_id'].nunique()\n",
    "P = main_df['product_id'].nunique()\n",
    "\n",
    "user_mapper = dict(zip(np.unique(main_df[\"user_id\"]), list(range(U))))\n",
    "product_mapper = dict(zip(np.unique(main_df[\"product_id\"]), list(range(P))))\n",
    "user_inv_mapper = dict(zip(list(range(U)), np.unique(main_df[\"user_id\"])))\n",
    "product_inv_mapper = dict(zip(list(range(P)), np.unique(main_df[\"product_id\"])))\n",
    "    \n",
    "row_index = [user_mapper[i] for i in main_df['user_id']]\n",
    "col_index = [product_mapper[i] for i in main_df['product_id']]\n",
    "\n",
    "user_item_matrix = csr_matrix((main_df[\"implicit_score\"], (row_index, col_index)), shape=(U, P))\n",
    "user_item_matrix"
   ]
  },
  {
   "cell_type": "code",
   "execution_count": 26,
   "metadata": {},
   "outputs": [
    {
     "name": "stdout",
     "output_type": "stream",
     "text": [
      "  (0, 21254)\t0.7\n",
      "  (1, 226267)\t0.3004815409309791\n",
      "  (2, 325286)\t0.5\n",
      "  (3, 62917)\t0.30000000000000004\n",
      "  (4, 30428)\t0.7\n",
      "  (4, 278561)\t0.7\n",
      "  (5, 143341)\t0.7\n",
      "  (6, 181004)\t0.6000000000000001\n",
      "  (7, 26735)\t0.7\n",
      "  (8, 251766)\t0.5009630818619583\n",
      "  (9, 96212)\t0.7\n",
      "  (10, 256029)\t0.7\n",
      "  (11, 252284)\t0.7\n",
      "  (12, 176098)\t0.7\n",
      "  (13, 52379)\t0.30000000000000004\n",
      "  (14, 167531)\t0.7\n",
      "  (15, 578)\t0.7\n",
      "  (16, 41636)\t0.7\n",
      "  (16, 182339)\t0.7004815409309793\n",
      "  (17, 305342)\t0.7\n",
      "  (18, 128361)\t0.7\n",
      "  (19, 130753)\t0.40048154093097915\n",
      "  (20, 36992)\t0.7\n",
      "  (21, 188715)\t0.7\n",
      "  (22, 179544)\t0.4\n",
      "  :\t:\n",
      "  (583854, 193961)\t0.4\n",
      "  (583854, 227813)\t0.7\n",
      "  (583855, 153153)\t0.6000000000000001\n",
      "  (583856, 223611)\t0.6009630818619582\n",
      "  (583857, 126629)\t0.7\n",
      "  (583858, 267166)\t0.6000000000000001\n",
      "  (583859, 31826)\t0.7\n",
      "  (583860, 204312)\t0.7\n",
      "  (583860, 307491)\t0.5028892455858748\n",
      "  (583861, 79343)\t0.7004815409309793\n",
      "  (583862, 9532)\t0.4\n",
      "  (583863, 181296)\t0.7\n",
      "  (583864, 236879)\t0.7\n",
      "  (583865, 208235)\t0.3009630818619583\n",
      "  (583866, 274695)\t0.5\n",
      "  (583867, 287061)\t0.3004815409309791\n",
      "  (583868, 196637)\t0.6000000000000001\n",
      "  (583869, 109732)\t0.6000000000000001\n",
      "  (583870, 277394)\t0.5\n",
      "  (583871, 92098)\t0.7\n",
      "  (583872, 227832)\t0.5\n",
      "  (583873, 103614)\t0.7\n",
      "  (583873, 212037)\t0.7\n",
      "  (583874, 90154)\t0.7\n",
      "  (583875, 51185)\t0.5\n"
     ]
    }
   ],
   "source": [
    "print(user_item_matrix)"
   ]
  },
  {
   "cell_type": "markdown",
   "metadata": {},
   "source": [
    "## Modeling"
   ]
  },
  {
   "cell_type": "markdown",
   "metadata": {},
   "source": [
    "Let's train the model with matrix we have created."
   ]
  },
  {
   "cell_type": "code",
   "execution_count": 27,
   "metadata": {},
   "outputs": [
    {
     "name": "stderr",
     "output_type": "stream",
     "text": [
      "e:\\anaconda3\\anaconda3\\Lib\\site-packages\\implicit\\cpu\\als.py:95: RuntimeWarning: Intel MKL BLAS is configured to use 2 threads. It is highly recommended to disable its internal threadpool by setting the environment variable 'MKL_NUM_THREADS=1' or by callng 'threadpoolctl.threadpool_limits(1, \"blas\")'. Having MKL use a threadpool can lead to severe performance issues\n",
      "  check_blas_config()\n"
     ]
    },
    {
     "data": {
      "application/vnd.jupyter.widget-view+json": {
       "model_id": "7a1337b3042a4452a912d8408022d578",
       "version_major": 2,
       "version_minor": 0
      },
      "text/plain": [
       "  0%|          | 0/50 [00:00<?, ?it/s]"
      ]
     },
     "metadata": {},
     "output_type": "display_data"
    }
   ],
   "source": [
    "from implicit.als import AlternatingLeastSquares\n",
    "\n",
    "model = AlternatingLeastSquares(factors=20, regularization=0.1, iterations=50, use_gpu=False)\n",
    "model.fit(user_item_matrix)"
   ]
  },
  {
   "cell_type": "markdown",
   "metadata": {},
   "source": [
    "### Top N Recommender"
   ]
  },
  {
   "cell_type": "code",
   "execution_count": 28,
   "metadata": {},
   "outputs": [],
   "source": [
    "def get_recommendation(user_id, N=10):\n",
    "    if user_id in user_mapper:\n",
    "        user_index = user_mapper[user_id]\n",
    "        user_items = user_item_matrix[user_index, :].tocsr()\n",
    "        recommendations = model.recommend(user_index, user_items, N=N)\n",
    "        item_indices, scores = recommendations\n",
    "        filtered_recommendations = [(item_index, score) for item_index, score in zip(item_indices, scores) if item_index in product_inv_mapper]\n",
    "    else:\n",
    "        popular_items = top_products['laplace_score'].index[:10]\n",
    "        filtered_recommendations = [(product_mapper[item], top_products.loc[f'{item}', 'laplace_score']) for item in popular_items if item in product_mapper]\n",
    "\n",
    "    print(f\"Top {N} Recommendations for UserId {user_id}:\")\n",
    "    for recommendation in filtered_recommendations:\n",
    "        item_index, score = recommendation[0], recommendation[1]\n",
    "        product_id = product_inv_mapper.get(item_index, \"Unknown\")\n",
    "        print(f'Product ID: {product_id}, Score: {score}')\n"
   ]
  },
  {
   "cell_type": "markdown",
   "metadata": {},
   "source": [
    "Let's try to get product recommendations for user id 'AHTTU2FL6FCNBBAESCJHOHHSSW7A' from the models."
   ]
  },
  {
   "cell_type": "code",
   "execution_count": 29,
   "metadata": {},
   "outputs": [
    {
     "name": "stdout",
     "output_type": "stream",
     "text": [
      "Top 10 Recommendations for UserId AHTTU2FL6FCNBBAESCJHOHHSSW7A:\n",
      "Product ID: B0163N2T38, Score: 6.11633833857983e-12\n",
      "Product ID: B08C2KKXNP, Score: 5.4395403112361684e-12\n",
      "Product ID: B088WBFHNY, Score: 4.6060967540118014e-12\n",
      "Product ID: B07P7M18C6, Score: 3.6133314222641655e-12\n",
      "Product ID: B08FRD28K9, Score: 3.0164529728204936e-12\n",
      "Product ID: B07NQRWW79, Score: 2.7989375140508033e-12\n",
      "Product ID: B07XWQ99TZ, Score: 2.567727280800014e-12\n",
      "Product ID: B08JV3PBH6, Score: 2.202647352705922e-12\n",
      "Product ID: B07P8QVFBP, Score: 1.7038540717217998e-12\n",
      "Product ID: B07MV2XWQ6, Score: 1.1845628644646666e-12\n"
     ]
    }
   ],
   "source": [
    "get_recommendation('AHTTU2FL6FCNBBAESCJHOHHSSW7A')"
   ]
  }
 ],
 "metadata": {
  "kernelspec": {
   "display_name": "base",
   "language": "python",
   "name": "python3"
  },
  "language_info": {
   "codemirror_mode": {
    "name": "ipython",
    "version": 3
   },
   "file_extension": ".py",
   "mimetype": "text/x-python",
   "name": "python",
   "nbconvert_exporter": "python",
   "pygments_lexer": "ipython3",
   "version": "3.11.5"
  }
 },
 "nbformat": 4,
 "nbformat_minor": 2
}
